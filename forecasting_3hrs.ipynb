{
  "cells": [
    {
      "cell_type": "code",
      "source": [
        "import numpy as np\n",
        "import pandas as pd\n",
        "from keras.models import Sequential\n",
        "from keras.layers import LSTM, Dense\n",
        "from sklearn.preprocessing import MinMaxScaler\n",
        "from sklearn.metrics import mean_squared_error, mean_absolute_error\n",
        "import matplotlib.pyplot as plt\n"
      ],
      "metadata": {
        "id": "J-KAyozxhBqz"
      },
      "execution_count": 3,
      "outputs": []
    },
    {
      "cell_type": "code",
      "source": [
        "# Load your dataset\n",
        "df = pd.read_csv('/content/data.csv', parse_dates=[0], index_col=0)"
      ],
      "metadata": {
        "id": "C9TCMzv-KzQK"
      },
      "execution_count": 4,
      "outputs": []
    },
    {
      "cell_type": "code",
      "source": [
        "# Preprocess data\n",
        "wind_speeds = df['Wind Speed (km/h)'].values.reshape(-1, 1)\n",
        "scaler = MinMaxScaler(feature_range=(0, 1))\n",
        "wind_speeds_normalized = scaler.fit_transform(wind_speeds)"
      ],
      "metadata": {
        "id": "0N6xTmaiK8lf"
      },
      "execution_count": 5,
      "outputs": []
    },
    {
      "cell_type": "code",
      "source": [
        "# Function to create the LSTM dataset\n",
        "def create_dataset(data, look_back=1):\n",
        "    X, Y = [], []\n",
        "    for i in range(len(data) - look_back):\n",
        "        a = data[i:(i + look_back), 0]\n",
        "        X.append(a)\n",
        "        Y.append(data[i + look_back, 0])\n",
        "    return np.array(X), np.array(Y)"
      ],
      "metadata": {
        "id": "Oaupuw2uLD5a"
      },
      "execution_count": 6,
      "outputs": []
    },
    {
      "cell_type": "code",
      "source": [
        "# Define look_back\n",
        "look_back = 500\n",
        "X, Y = create_dataset(wind_speeds_normalized, look_back)"
      ],
      "metadata": {
        "id": "-6BPdeCPLJ23"
      },
      "execution_count": 7,
      "outputs": []
    },
    {
      "cell_type": "code",
      "source": [
        "# Reshape input to be [samples, time steps, features]\n",
        "X = np.reshape(X, (X.shape[0], 1, X.shape[1]))"
      ],
      "metadata": {
        "id": "kt1ULWCHLOKC"
      },
      "execution_count": 8,
      "outputs": []
    },
    {
      "cell_type": "code",
      "source": [
        "# Split the data keeping the last number of records for validation\n",
        "X_train, X_test = X[0:-3], X[-3:]\n",
        "Y_train, Y_test = Y[0:-3], Y[-3:]"
      ],
      "metadata": {
        "id": "Mz3xeI_pLRMj"
      },
      "execution_count": 9,
      "outputs": []
    },
    {
      "cell_type": "code",
      "source": [
        "\n",
        "# Define and compile the LSTM model\n",
        "model = Sequential([ LSTM(100, input_shape=(1, look_back)), Dense(1)])\n",
        "model.compile(loss='mean_squared_error', optimizer='adam')\n",
        "# Adam is a popular stochastic gradient descent optimization algorthim\n",
        "# to find the model parameters that correspond to the best fit between predicted and actual outputs.\n"
      ],
      "metadata": {
        "id": "x2nW0vukLWtX"
      },
      "execution_count": 10,
      "outputs": []
    },
    {
      "cell_type": "code",
      "source": [
        "# Train the model\n",
        "history = model.fit(X_train, Y_train, epochs=20, batch_size=32, verbose=1,)"
      ],
      "metadata": {
        "colab": {
          "base_uri": "https://localhost:8080/"
        },
        "id": "N0mnwlTnLk6J",
        "outputId": "f38e8c49-1e45-4a32-a977-5c09a10e543a"
      },
      "execution_count": 11,
      "outputs": [
        {
          "output_type": "stream",
          "name": "stdout",
          "text": [
            "Epoch 1/20\n",
            "2999/2999 [==============================] - 16s 4ms/step - loss: 0.0041\n",
            "Epoch 2/20\n",
            "2999/2999 [==============================] - 12s 4ms/step - loss: 0.0034\n",
            "Epoch 3/20\n",
            "2999/2999 [==============================] - 12s 4ms/step - loss: 0.0032\n",
            "Epoch 4/20\n",
            "2999/2999 [==============================] - 12s 4ms/step - loss: 0.0032\n",
            "Epoch 5/20\n",
            "2999/2999 [==============================] - 12s 4ms/step - loss: 0.0032\n",
            "Epoch 6/20\n",
            "2999/2999 [==============================] - 13s 4ms/step - loss: 0.0031\n",
            "Epoch 7/20\n",
            "2999/2999 [==============================] - 12s 4ms/step - loss: 0.0031\n",
            "Epoch 8/20\n",
            "2999/2999 [==============================] - 13s 4ms/step - loss: 0.0031\n",
            "Epoch 9/20\n",
            "2999/2999 [==============================] - 12s 4ms/step - loss: 0.0031\n",
            "Epoch 10/20\n",
            "2999/2999 [==============================] - 13s 4ms/step - loss: 0.0031\n",
            "Epoch 11/20\n",
            "2999/2999 [==============================] - 12s 4ms/step - loss: 0.0031\n",
            "Epoch 12/20\n",
            "2999/2999 [==============================] - 12s 4ms/step - loss: 0.0030\n",
            "Epoch 13/20\n",
            "2999/2999 [==============================] - 12s 4ms/step - loss: 0.0030\n",
            "Epoch 14/20\n",
            "2999/2999 [==============================] - 12s 4ms/step - loss: 0.0030\n",
            "Epoch 15/20\n",
            "2999/2999 [==============================] - 12s 4ms/step - loss: 0.0030\n",
            "Epoch 16/20\n",
            "2999/2999 [==============================] - 12s 4ms/step - loss: 0.0030\n",
            "Epoch 17/20\n",
            "2999/2999 [==============================] - 12s 4ms/step - loss: 0.0029\n",
            "Epoch 18/20\n",
            "2999/2999 [==============================] - 12s 4ms/step - loss: 0.0029\n",
            "Epoch 19/20\n",
            "2999/2999 [==============================] - 12s 4ms/step - loss: 0.0029\n",
            "Epoch 20/20\n",
            "2999/2999 [==============================] - 12s 4ms/step - loss: 0.0028\n"
          ]
        }
      ]
    },
    {
      "cell_type": "code",
      "source": [
        "# Predict the last n number values\n",
        "predicted = model.predict(X_test)\n",
        "predicted = scaler.inverse_transform(predicted)\n",
        "\n",
        "# Actual last n values\n",
        "actual = scaler.inverse_transform(Y_test.reshape(-1, 1))"
      ],
      "metadata": {
        "colab": {
          "base_uri": "https://localhost:8080/"
        },
        "id": "LPdyo7-qLlJQ",
        "outputId": "b60c1758-496e-4b55-a54b-f76576b2218f"
      },
      "execution_count": 12,
      "outputs": [
        {
          "output_type": "stream",
          "name": "stdout",
          "text": [
            "1/1 [==============================] - 0s 358ms/step\n"
          ]
        }
      ]
    },
    {
      "cell_type": "code",
      "source": [
        "# Print the predictions and actual values\n",
        "print(\"\\nComparison of Predicted and Actual Wind Speeds:\")\n",
        "for i in range(len(predicted)):\n",
        "    print(f\"Hour {i+1}: Predicted = {predicted[i][0]:.2f} km/h, Actual = {actual[i][0]:.2f} km/h\")\n",
        "\n",
        "num_points = min(len(predicted), len(actual), 24)  # Restrict plotting upto 24 hours\n"
      ],
      "metadata": {
        "colab": {
          "base_uri": "https://localhost:8080/"
        },
        "id": "jlxrcT8OKmQO",
        "outputId": "896d0ba2-a853-4774-8c47-0d7d70f271da"
      },
      "execution_count": 13,
      "outputs": [
        {
          "output_type": "stream",
          "name": "stdout",
          "text": [
            "\n",
            "Comparison of Predicted and Actual Wind Speeds:\n",
            "Hour 1: Predicted = 10.07 km/h, Actual = 9.27 km/h\n",
            "Hour 2: Predicted = 9.93 km/h, Actual = 9.24 km/h\n",
            "Hour 3: Predicted = 9.85 km/h, Actual = 9.23 km/h\n"
          ]
        }
      ]
    },
    {
      "cell_type": "code",
      "source": [
        "mae = mean_absolute_error(actual, predicted)\n",
        "mse = mean_squared_error(actual, predicted)\n",
        "rmse = np.sqrt(mean_squared_error(actual, predicted))\n",
        "\n",
        "print(f\"Mean Absolute Error: {mae:.2f}\")\n",
        "print(f\"Mean Squared Error: {mse:.2f}\")\n",
        "print(f\"Root Mean Squared Error: {rmse:.2f}\")"
      ],
      "metadata": {
        "colab": {
          "base_uri": "https://localhost:8080/"
        },
        "id": "P87-xs2hL9jw",
        "outputId": "fa68bc4d-6ee0-4647-e8cb-93693c607427"
      },
      "execution_count": 14,
      "outputs": [
        {
          "output_type": "stream",
          "name": "stdout",
          "text": [
            "Mean Absolute Error: 0.71\n",
            "Mean Squared Error: 0.50\n",
            "Root Mean Squared Error: 0.71\n"
          ]
        }
      ]
    },
    {
      "cell_type": "code",
      "source": [
        "# Prepare the data\n",
        "predicted_last_n = predicted[-num_points:]  # Get the last n points from predicted\n",
        "actual_last_n = actual[-num_points:]  # Get the last n points from actual\n",
        "hours = np.arange(1, num_points + 1)  # Hours from 1 to n\n"
      ],
      "metadata": {
        "id": "D8u5EzYGLxoG"
      },
      "execution_count": 15,
      "outputs": []
    },
    {
      "cell_type": "code",
      "source": [
        "# Plotting the predicted and actual wind speeds\n",
        "plt.figure(figsize=(10, 6))\n",
        "plt.plot(hours, actual_last_n.flatten(), label='Actual Wind Speed (km/h)',marker='o')  # Flatten in case of 2D array\n",
        "plt.plot(hours, predicted_last_n.flatten(), label='Predicted Wind Speed (km/h)', linestyle='--', marker='x')\n",
        "plt.title('Comparison of Actual and Predicted Wind Speeds')\n",
        "plt.xlabel('Hour')\n",
        "plt.ylabel('Wind Speed (km/h)')\n",
        "plt.legend()\n",
        "plt.grid(True)\n",
        "plt.show()"
      ],
      "metadata": {
        "colab": {
          "base_uri": "https://localhost:8080/",
          "height": 564
        },
        "id": "WPdRLDpELtBF",
        "outputId": "b98c62cc-b599-415c-bea4-c100f3f7c3a0"
      },
      "execution_count": 16,
      "outputs": [
        {
          "output_type": "display_data",
          "data": {
            "text/plain": [
              "<Figure size 1000x600 with 1 Axes>"
            ],
            "image/png": "[encoded data removed]"
          },
          "metadata": {}
        }
      ]
    }
  ],
  "metadata": {
    "kernelspec": {
      "display_name": "Python 3",
      "name": "python3"
    },
    "language_info": {
      "codemirror_mode": {
        "name": "ipython",
        "version": 3
      },
      "file_extension": ".py",
      "mimetype": "text/x-python",
      "name": "python",
      "nbconvert_exporter": "python",
      "pygments_lexer": "ipython3",
      "version": "3.6.4"
    },
    "colab": {
      "provenance": [],
      "gpuType": "T4"
    },
    "accelerator": "GPU"
  },
  "nbformat": 4,
  "nbformat_minor": 0
}